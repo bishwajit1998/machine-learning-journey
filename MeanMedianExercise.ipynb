{
 "cells": [
  {
   "cell_type": "markdown",
   "metadata": {},
   "source": [
    "# Exercise: Mean & Median Customer Spend"
   ]
  },
  {
   "cell_type": "markdown",
   "metadata": {},
   "source": [
    "Here's some code that will generate some random e-commerce data; just an array of total amount spent per transaction. Select the code block, and hit \"play\" to execute it:"
   ]
  },
  {
   "cell_type": "code",
   "execution_count": 2,
   "metadata": {},
   "outputs": [
    {
     "data": {
      "image/png": "[encoded data removed]",
      "text/plain": [
       "<Figure size 432x288 with 1 Axes>"
      ]
     },
     "metadata": {
      "needs_background": "light"
     },
     "output_type": "display_data"
    }
   ],
   "source": [
    "%matplotlib inline\n",
    "import numpy as np\n",
    "import matplotlib.pyplot as plt\n",
    "\n",
    "incomes = np.random.normal(100.0, 20.0, 10000)\n",
    "\n",
    "plt.hist(incomes, 50)\n",
    "plt.show()"
   ]
  },
  {
   "cell_type": "markdown",
   "metadata": {},
   "source": [
    "Now, find the mean and median of this data. In the code block below, write your code, and see if your result makes sense:"
   ]
  },
  {
   "cell_type": "code",
   "execution_count": 3,
   "metadata": {},
   "outputs": [
    {
     "data": {
      "text/plain": [
       "99.630580869533"
      ]
     },
     "execution_count": 3,
     "metadata": {},
     "output_type": "execute_result"
    }
   ],
   "source": [
    "avg = np.mean(incomes)\n",
    "avg"
   ]
  },
  {
   "cell_type": "markdown",
   "metadata": {},
   "source": [
    "This is pretty much the world's easiest assignment, but we're just trying to get your hands on iPython and writing code with numpy to get you comfortable with it.\n",
    "\n",
    "Try playing with the code above to generate different distributions of data, or add outliers to it to see their effect."
   ]
  },
  {
   "cell_type": "code",
   "execution_count": 4,
   "metadata": {},
   "outputs": [
    {
     "data": {
      "text/plain": [
       "array([51, 42, 74, 42, 86, 83, 27, 53, 87, 29, 21, 18, 64, 19, 44, 65, 60,\n",
       "       51, 61, 21, 72, 70, 19, 75, 85, 61, 36, 61, 74, 88, 28, 73, 58, 26,\n",
       "       49, 77, 71, 64, 57, 48, 74, 23, 28, 76, 21, 34, 38, 41, 33, 87, 68,\n",
       "       89, 30, 72, 49, 74, 66, 76, 33, 76, 24, 80, 56, 22, 68, 58, 79, 53,\n",
       "       66, 59, 39, 25, 88, 74, 57, 44, 86, 58, 25, 65, 41, 48, 18, 74, 19,\n",
       "       53, 55, 46, 27, 78, 87, 24, 42, 23, 51, 49, 49, 55, 49, 80, 43, 89,\n",
       "       29, 31, 26, 64, 79, 41, 68, 57, 72, 87, 43, 59, 77, 61, 25, 27, 57,\n",
       "       68, 65, 87, 49, 72, 89, 22, 81, 86, 78, 56, 30, 88, 24, 33, 71, 63,\n",
       "       52, 61, 67, 76, 84, 62, 27, 40, 42, 77, 48, 35, 72, 21, 23, 84, 77,\n",
       "       60, 48, 55, 27, 22, 22, 22, 26, 57, 29, 67, 48, 83, 22, 69, 78, 40,\n",
       "       22, 56, 38, 33, 57, 41, 44, 75, 84, 84, 80, 84, 57, 75, 89, 36, 41,\n",
       "       46, 35, 87, 20, 71, 80, 33, 66, 88, 39, 85, 55, 63, 38, 49, 26, 68,\n",
       "       25, 56, 21, 59, 88, 46, 74, 19, 25, 89, 74, 54, 82, 51, 48, 78, 61,\n",
       "       29, 71, 58, 81, 20, 26, 27, 88, 70, 86, 78, 47, 64, 68, 62, 64, 69,\n",
       "       77, 84, 26, 53, 68, 64, 52, 86, 35, 76, 72, 67, 32, 27, 58, 32, 89,\n",
       "       75, 64, 51, 32, 31, 52, 48, 62, 47, 47, 82, 18, 39, 41, 71, 78, 29,\n",
       "       37, 35, 31, 41, 25, 33, 61, 69, 70, 52, 27, 69, 77, 25, 81, 42, 72,\n",
       "       71, 81, 64, 60, 53, 55, 29, 34, 86, 81, 19, 70, 89, 23, 81, 24, 58,\n",
       "       50, 47, 41, 18, 47, 46, 24, 41, 62, 24, 68, 75, 65, 51, 41, 51, 29,\n",
       "       48, 75, 63, 79, 78, 22, 64, 80, 81, 65, 60, 80, 79, 55, 30, 86, 60,\n",
       "       73, 65, 43, 85, 53, 29, 47, 34, 59, 38, 74, 50, 47, 27, 40, 34, 34,\n",
       "       26, 78, 61, 25, 51, 56, 78, 41, 22, 80, 88, 81, 27, 86, 52, 29, 55,\n",
       "       59, 18, 82, 82, 81, 46, 19, 75, 54, 54, 40, 61, 28, 47, 43, 28, 19,\n",
       "       22, 71, 31, 56, 22, 49, 32, 55, 22, 82, 22, 87, 65, 63, 83, 63, 36,\n",
       "       23, 27, 26, 18, 41, 31, 34, 27, 41, 81, 51, 44, 63, 85, 45, 61, 52,\n",
       "       73, 41, 35, 29, 50, 85, 87, 49, 24, 43, 57, 73, 22, 56, 31, 20, 45,\n",
       "       54, 84, 18, 79, 67, 21, 69, 55, 31, 26, 76, 46, 36, 77, 51, 77, 55,\n",
       "       26, 52, 87, 76, 48, 86, 89, 51, 82, 69, 70, 37, 18, 78, 80, 89, 57,\n",
       "       80, 63, 39, 86, 57, 69, 69, 50, 59, 72, 56, 86, 41, 82, 49, 69, 58,\n",
       "       32, 43, 84, 83, 42, 53, 63])"
      ]
     },
     "execution_count": 4,
     "metadata": {},
     "output_type": "execute_result"
    }
   ],
   "source": [
    "ages = np.random.randint(18, high=90, size=500)\n",
    "ages"
   ]
  },
  {
   "cell_type": "code",
   "execution_count": 5,
   "metadata": {},
   "outputs": [
    {
     "data": {
      "text/plain": [
       "ModeResult(mode=array([41]), count=array([15]))"
      ]
     },
     "execution_count": 5,
     "metadata": {},
     "output_type": "execute_result"
    }
   ],
   "source": [
    "from scipy import stats\n",
    "stats.mode(ages)"
   ]
  },
  {
   "cell_type": "code",
   "execution_count": null,
   "metadata": {},
   "outputs": [],
   "source": []
  }
 ],
 "metadata": {
  "kernelspec": {
   "display_name": "Python 3",
   "language": "python",
   "name": "python3"
  },
  "language_info": {
   "codemirror_mode": {
    "name": "ipython",
    "version": 3
   },
   "file_extension": ".py",
   "mimetype": "text/x-python",
   "name": "python",
   "nbconvert_exporter": "python",
   "pygments_lexer": "ipython3",
   "version": "3.7.6"
  }
 },
 "nbformat": 4,
 "nbformat_minor": 1
}
